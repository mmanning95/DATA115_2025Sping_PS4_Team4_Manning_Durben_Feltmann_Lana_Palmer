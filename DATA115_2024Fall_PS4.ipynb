{
 "cells": [
  {
   "cell_type": "markdown",
   "metadata": {
    "tags": []
   },
   "source": [
    "<h2> DATA 115: Introduction to Data Analytics. Fall 2024 </h2>\n",
    "<h3> Problem Set 4 </h3>\n",
    "<h3> Team <i> (Insert your group number here) </i></h3>\n",
    "<h3> Type students' names <i> (only those who contributed to the group work)</i> here</h3>"
   ]
  },
  {
   "cell_type": "markdown",
   "metadata": {
    "jp-MarkdownHeadingCollapsed": true
   },
   "source": [
    "#### 1. In your own words, write brief answers to the following questions:\n",
    "\n",
    "##### (a) What is the curse of dimensionality?\n",
    "\n",
    "##### (b) What is the difference between MDS and PCA?\n",
    "\n",
    "##### (c) Give an example of a dataset for which dimension reduction would be a useful first step.\n",
    "\n",
    "##### (d) What is a dendrogram and what type of clustering method is it used to represent?\n",
    "\n",
    "##### (e) What is the difference between supervised and unsupervised learning?"
   ]
  },
  {
   "cell_type": "markdown",
   "metadata": {
    "jp-MarkdownHeadingCollapsed": true,
    "tags": []
   },
   "source": [
    "#### 2. Load the data in `iris_data` as a dataframe in Python. This is a classic dataset (originally published in 1936) that is frequently used as an initial set of test data. It consists of four numerical columns reporting the length and width of the sepal and petals of 150 iris plants and a final column reporting the specific subspecies. The data file also has an additional column with numerical column representing the subspecies. \n",
    "\n",
    "##### (a) Make a scatterplot of petal width vs. petal length colored by the subspecies.\n",
    "\n",
    "##### (b) Perform PCA on the data with the four numerical columns as inputs and make a scatter plot of the top two principal components colored by subspecies.\n",
    "\n",
    "##### (c) What proportion of the variance is explained by these two components?\n",
    "\n",
    "##### (d) What are the loadings for each of the original numerical columns?"
   ]
  },
  {
   "cell_type": "markdown",
   "metadata": {
    "tags": []
   },
   "source": [
    "#### 3. Continue working with `iris_data` dataframe.\n",
    "\n",
    "##### (a) Apply k-means clustering to the four numeric columns with three clusters.\n",
    "\n",
    "##### (b) Apply k-means clustering to the two principal components with three clusters.\n",
    "\n",
    "##### (c) Which of the two k-means clusterings is more accurate at predicting the subspecies correctly?"
   ]
  }
 ],
 "metadata": {
  "kernelspec": {
   "display_name": "Python 3 (ipykernel)",
   "language": "python",
   "name": "python3"
  },
  "language_info": {
   "codemirror_mode": {
    "name": "ipython",
    "version": 3
   },
   "file_extension": ".py",
   "mimetype": "text/x-python",
   "name": "python",
   "nbconvert_exporter": "python",
   "pygments_lexer": "ipython3",
   "version": "3.11.5"
  }
 },
 "nbformat": 4,
 "nbformat_minor": 4
}
